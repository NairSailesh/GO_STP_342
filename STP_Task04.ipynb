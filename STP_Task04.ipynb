{
  "nbformat": 4,
  "nbformat_minor": 0,
  "metadata": {
    "colab": {
      "name": "STP-Task04.ipynb",
      "provenance": [],
      "authorship_tag": "ABX9TyPyr2asYkRma/sGSRucFy/D",
      "include_colab_link": true
    },
    "kernelspec": {
      "name": "python3",
      "display_name": "Python 3"
    },
    "language_info": {
      "name": "python"
    }
  },
  "cells": [
    {
      "cell_type": "markdown",
      "metadata": {
        "id": "view-in-github",
        "colab_type": "text"
      },
      "source": [
        "<a href=\"https://colab.research.google.com/github/NairSailesh/GO_STP_342/blob/main/STP_Task04.ipynb\" target=\"_parent\"><img src=\"https://colab.research.google.com/assets/colab-badge.svg\" alt=\"Open In Colab\"/></a>"
      ]
    },
    {
      "cell_type": "markdown",
      "metadata": {
        "id": "3iVUsc5INb7C"
      },
      "source": [
        "1. Import the numpy package under the name np and Print the numpy version and the configuration "
      ]
    },
    {
      "cell_type": "code",
      "metadata": {
        "id": "vbBimbvyMG97",
        "colab": {
          "base_uri": "https://localhost:8080/",
          "height": 35
        },
        "outputId": "b69db4a5-b5aa-4f4e-b62f-242bd8e2e8a6"
      },
      "source": [
        "import numpy as np\n",
        "np.__version__"
      ],
      "execution_count": 1,
      "outputs": [
        {
          "output_type": "execute_result",
          "data": {
            "application/vnd.google.colaboratory.intrinsic+json": {
              "type": "string"
            },
            "text/plain": [
              "'1.19.5'"
            ]
          },
          "metadata": {
            "tags": []
          },
          "execution_count": 1
        }
      ]
    },
    {
      "cell_type": "code",
      "metadata": {
        "colab": {
          "base_uri": "https://localhost:8080/"
        },
        "id": "WgzTSbLrNh6Q",
        "outputId": "12bc7ce5-0276-4c4a-a0bb-a15bc0d70a15"
      },
      "source": [
        "np.show_config()"
      ],
      "execution_count": 2,
      "outputs": [
        {
          "output_type": "stream",
          "text": [
            "blas_mkl_info:\n",
            "  NOT AVAILABLE\n",
            "blis_info:\n",
            "  NOT AVAILABLE\n",
            "openblas_info:\n",
            "    libraries = ['openblas', 'openblas']\n",
            "    library_dirs = ['/usr/local/lib']\n",
            "    language = c\n",
            "    define_macros = [('HAVE_CBLAS', None)]\n",
            "blas_opt_info:\n",
            "    libraries = ['openblas', 'openblas']\n",
            "    library_dirs = ['/usr/local/lib']\n",
            "    language = c\n",
            "    define_macros = [('HAVE_CBLAS', None)]\n",
            "lapack_mkl_info:\n",
            "  NOT AVAILABLE\n",
            "openblas_lapack_info:\n",
            "    libraries = ['openblas', 'openblas']\n",
            "    library_dirs = ['/usr/local/lib']\n",
            "    language = c\n",
            "    define_macros = [('HAVE_CBLAS', None)]\n",
            "lapack_opt_info:\n",
            "    libraries = ['openblas', 'openblas']\n",
            "    library_dirs = ['/usr/local/lib']\n",
            "    language = c\n",
            "    define_macros = [('HAVE_CBLAS', None)]\n"
          ],
          "name": "stdout"
        }
      ]
    },
    {
      "cell_type": "markdown",
      "metadata": {
        "id": "gUKd6pBcN6Zy"
      },
      "source": [
        "2. Create a null vector of size 10"
      ]
    },
    {
      "cell_type": "code",
      "metadata": {
        "colab": {
          "base_uri": "https://localhost:8080/"
        },
        "id": "oGhVOQWoNrnu",
        "outputId": "eab5a53e-dec2-4d0e-c9b8-f3157f0b6998"
      },
      "source": [
        "ten = np.zeros(10)\n",
        "print(ten)"
      ],
      "execution_count": 3,
      "outputs": [
        {
          "output_type": "stream",
          "text": [
            "[0. 0. 0. 0. 0. 0. 0. 0. 0. 0.]\n"
          ],
          "name": "stdout"
        }
      ]
    },
    {
      "cell_type": "markdown",
      "metadata": {
        "id": "_Fe9_-t-OU6q"
      },
      "source": [
        "3. Create Simple 1-D array and check type and check data types in array"
      ]
    },
    {
      "cell_type": "code",
      "metadata": {
        "colab": {
          "base_uri": "https://localhost:8080/"
        },
        "id": "1EF2pWLAOGsh",
        "outputId": "5d193c11-7979-4e6b-c6b3-325231725d3e"
      },
      "source": [
        "d = np.array([1,2,3,4,5,6])\n",
        "print(d)\n",
        "print(type(d))"
      ],
      "execution_count": 4,
      "outputs": [
        {
          "output_type": "stream",
          "text": [
            "[1 2 3 4 5 6]\n",
            "<class 'numpy.ndarray'>\n"
          ],
          "name": "stdout"
        }
      ]
    },
    {
      "cell_type": "code",
      "metadata": {
        "colab": {
          "base_uri": "https://localhost:8080/"
        },
        "id": "BPQD7iAhOoOm",
        "outputId": "64effd54-b124-4c87-c240-a5b9069e7177"
      },
      "source": [
        "d.dtype"
      ],
      "execution_count": 5,
      "outputs": [
        {
          "output_type": "execute_result",
          "data": {
            "text/plain": [
              "dtype('int64')"
            ]
          },
          "metadata": {
            "tags": []
          },
          "execution_count": 5
        }
      ]
    },
    {
      "cell_type": "markdown",
      "metadata": {
        "id": "2JtoR4uHO_rh"
      },
      "source": [
        "4. How to find number of dimensions, bytes per element and bytes of memory used?"
      ]
    },
    {
      "cell_type": "code",
      "metadata": {
        "colab": {
          "base_uri": "https://localhost:8080/"
        },
        "id": "4OARAzR3O4jO",
        "outputId": "b2395ae7-9483-4519-eea0-a3930ee43a0a"
      },
      "source": [
        "print('Dimensions: ',d.shape)\n",
        "print(\"Size of one element in bytes: \",d.itemsize)\n",
        "print(\"Size of the array: \",d.size*d.itemsize)  \n"
      ],
      "execution_count": 6,
      "outputs": [
        {
          "output_type": "stream",
          "text": [
            "Dimensions:  (6,)\n",
            "Size of one element in bytes:  8\n",
            "Size of the array:  48\n"
          ],
          "name": "stdout"
        }
      ]
    },
    {
      "cell_type": "markdown",
      "metadata": {
        "id": "IrxFaIXLQcMT"
      },
      "source": [
        "5. Create a null vector of size 10 but the fifth value which is 1"
      ]
    },
    {
      "cell_type": "code",
      "metadata": {
        "colab": {
          "base_uri": "https://localhost:8080/"
        },
        "id": "NY6fDddJQYz_",
        "outputId": "cb0ba461-802f-40a0-aff2-8f23b6f9ee35"
      },
      "source": [
        "a=(np.arange(10)==4).astype(int)\n",
        "print(a)"
      ],
      "execution_count": 7,
      "outputs": [
        {
          "output_type": "stream",
          "text": [
            "[0 0 0 0 1 0 0 0 0 0]\n"
          ],
          "name": "stdout"
        }
      ]
    },
    {
      "cell_type": "markdown",
      "metadata": {
        "id": "idJJrEjyRVq7"
      },
      "source": [
        "6. Create a vector with values ranging from 10 to 49"
      ]
    },
    {
      "cell_type": "code",
      "metadata": {
        "colab": {
          "base_uri": "https://localhost:8080/"
        },
        "id": "K2HCmKyRRGZv",
        "outputId": "e4d2a8fe-992b-4ffe-c2f1-2ec4687d3fae"
      },
      "source": [
        "v6=np.arange(10,49)\n",
        "print(v6)"
      ],
      "execution_count": 8,
      "outputs": [
        {
          "output_type": "stream",
          "text": [
            "[10 11 12 13 14 15 16 17 18 19 20 21 22 23 24 25 26 27 28 29 30 31 32 33\n",
            " 34 35 36 37 38 39 40 41 42 43 44 45 46 47 48]\n"
          ],
          "name": "stdout"
        }
      ]
    },
    {
      "cell_type": "markdown",
      "metadata": {
        "id": "RkmKWDUnRnOM"
      },
      "source": [
        "7. Reverse a vector (first element becomes last)"
      ]
    },
    {
      "cell_type": "code",
      "metadata": {
        "colab": {
          "base_uri": "https://localhost:8080/"
        },
        "id": "DVgjhkzQRhlG",
        "outputId": "d67466a8-c0cf-4be0-bd86-37d399aa2d6f"
      },
      "source": [
        "np.flip(v6)"
      ],
      "execution_count": 9,
      "outputs": [
        {
          "output_type": "execute_result",
          "data": {
            "text/plain": [
              "array([48, 47, 46, 45, 44, 43, 42, 41, 40, 39, 38, 37, 36, 35, 34, 33, 32,\n",
              "       31, 30, 29, 28, 27, 26, 25, 24, 23, 22, 21, 20, 19, 18, 17, 16, 15,\n",
              "       14, 13, 12, 11, 10])"
            ]
          },
          "metadata": {
            "tags": []
          },
          "execution_count": 9
        }
      ]
    },
    {
      "cell_type": "markdown",
      "metadata": {
        "id": "ShdFhJv1SJqU"
      },
      "source": [
        "8. Create a 3x3 matrix with values ranging from 0 to 8"
      ]
    },
    {
      "cell_type": "code",
      "metadata": {
        "colab": {
          "base_uri": "https://localhost:8080/"
        },
        "id": "kSQoUIF2R15O",
        "outputId": "dbd2f56c-e389-4b69-8b04-3b3dc52c8682"
      },
      "source": [
        "m=np.arange(0,9).reshape(3,3)\n",
        "print(m)"
      ],
      "execution_count": 10,
      "outputs": [
        {
          "output_type": "stream",
          "text": [
            "[[0 1 2]\n",
            " [3 4 5]\n",
            " [6 7 8]]\n"
          ],
          "name": "stdout"
        }
      ]
    },
    {
      "cell_type": "markdown",
      "metadata": {
        "id": "7P6ufwAtS5f_"
      },
      "source": [
        "9. Find indices of non-zero elements from [1,2,0,0,4,0]"
      ]
    },
    {
      "cell_type": "code",
      "metadata": {
        "colab": {
          "base_uri": "https://localhost:8080/"
        },
        "id": "HCkYZh42SUVK",
        "outputId": "19d2734d-d921-495b-a904-02fa99a843e8"
      },
      "source": [
        "f = [1,2,0,0,4,0]\n",
        "np.nonzero(f)"
      ],
      "execution_count": 11,
      "outputs": [
        {
          "output_type": "execute_result",
          "data": {
            "text/plain": [
              "(array([0, 1, 4]),)"
            ]
          },
          "metadata": {
            "tags": []
          },
          "execution_count": 11
        }
      ]
    },
    {
      "cell_type": "markdown",
      "metadata": {
        "id": "tgm_-yj-TW20"
      },
      "source": [
        "10. Create a 3x3 identity matrix"
      ]
    },
    {
      "cell_type": "code",
      "metadata": {
        "colab": {
          "base_uri": "https://localhost:8080/"
        },
        "id": "5erMn3tFSXBl",
        "outputId": "7f3916d8-a2c1-41aa-daf0-67b59bbbe1c1"
      },
      "source": [
        "o=np.ones((3,3)).astype(int)\n",
        "print(o)"
      ],
      "execution_count": 12,
      "outputs": [
        {
          "output_type": "stream",
          "text": [
            "[[1 1 1]\n",
            " [1 1 1]\n",
            " [1 1 1]]\n"
          ],
          "name": "stdout"
        }
      ]
    },
    {
      "cell_type": "markdown",
      "metadata": {
        "id": "EtZpndR_T_JE"
      },
      "source": [
        " 11. Create a 3x3x3 array with random values"
      ]
    },
    {
      "cell_type": "code",
      "metadata": {
        "colab": {
          "base_uri": "https://localhost:8080/"
        },
        "id": "qCgxHYwNTgzl",
        "outputId": "52b46c7a-f0c8-4f99-999a-4c791399b90a"
      },
      "source": [
        "r=np.random.randint(10,90,(3,3,3))\n",
        "print(r)"
      ],
      "execution_count": 13,
      "outputs": [
        {
          "output_type": "stream",
          "text": [
            "[[[57 24 64]\n",
            "  [35 22 11]\n",
            "  [62 82 50]]\n",
            "\n",
            " [[78 56 79]\n",
            "  [83 87 87]\n",
            "  [50 83 64]]\n",
            "\n",
            " [[31 31 75]\n",
            "  [50 69 44]\n",
            "  [79 56 52]]]\n"
          ],
          "name": "stdout"
        }
      ]
    },
    {
      "cell_type": "markdown",
      "metadata": {
        "id": "z3kPLvNqVveL"
      },
      "source": [
        "12. Create a 10x10 array with random values and find the minimum and maximum values"
      ]
    },
    {
      "cell_type": "code",
      "metadata": {
        "colab": {
          "base_uri": "https://localhost:8080/"
        },
        "id": "N8s68zHcUb0S",
        "outputId": "a654b7c1-d556-4a5e-a314-7ec233093896"
      },
      "source": [
        "x = np.random.randint(100,900,(10,10))\n",
        "print(\"Original Array:\")\n",
        "print(x) \n",
        "xmin, xmax = x.min(), x.max()\n",
        "print(\"Minimum and Maximum Values:\")\n",
        "print(xmin, xmax)"
      ],
      "execution_count": 14,
      "outputs": [
        {
          "output_type": "stream",
          "text": [
            "Original Array:\n",
            "[[627 684 653 174 189 333 424 620 436 738]\n",
            " [824 808 360 114 355 799 520 734 452 545]\n",
            " [135 377 265 665 715 669 169 728 580 779]\n",
            " [564 262 888 201 828 465 831 593 119 259]\n",
            " [301 809 151 307 651 206 783 690 675 178]\n",
            " [687 417 641 619 226 791 548 352 372 847]\n",
            " [138 194 244 186 121 439 383 893 391 128]\n",
            " [766 659 654 103 800 150 322 817 504 625]\n",
            " [617 697 611 242 373 740 170 559 727 838]\n",
            " [456 578 379 203 764 277 331 147 740 896]]\n",
            "Minimum and Maximum Values:\n",
            "103 896\n"
          ],
          "name": "stdout"
        }
      ]
    },
    {
      "cell_type": "markdown",
      "metadata": {
        "id": "vmCaVjnJW_Hs"
      },
      "source": [
        "13. Create a random vector of size 30 and find the mean value"
      ]
    },
    {
      "cell_type": "code",
      "metadata": {
        "id": "46f_DwjxViIV",
        "colab": {
          "base_uri": "https://localhost:8080/"
        },
        "outputId": "0a3b67f3-e6ec-477c-cd7a-7d0d9f9cb7e6"
      },
      "source": [
        "x = np.random.randint(100,900,(10))\n",
        "print(x)\n",
        "print('Mean:',x.mean())"
      ],
      "execution_count": 15,
      "outputs": [
        {
          "output_type": "stream",
          "text": [
            "[169 379 846 294 386 117 375 689 266 113]\n",
            "Mean: 363.4\n"
          ],
          "name": "stdout"
        }
      ]
    },
    {
      "cell_type": "markdown",
      "metadata": {
        "id": "Tp2btHWKXn3V"
      },
      "source": [
        "14. Create a 2d array with 1 on the border and 0 inside"
      ]
    },
    {
      "cell_type": "code",
      "metadata": {
        "colab": {
          "base_uri": "https://localhost:8080/"
        },
        "id": "b_1IJSveXYtA",
        "outputId": "ee6a4b24-56ab-46e6-fea8-b1f84f47f18d"
      },
      "source": [
        "x=np.ones((3,3))\n",
        "print(x)\n",
        "x[1:-1,1:-1]=0\n",
        "print(x)"
      ],
      "execution_count": 16,
      "outputs": [
        {
          "output_type": "stream",
          "text": [
            "[[1. 1. 1.]\n",
            " [1. 1. 1.]\n",
            " [1. 1. 1.]]\n",
            "[[1. 1. 1.]\n",
            " [1. 0. 1.]\n",
            " [1. 1. 1.]]\n"
          ],
          "name": "stdout"
        }
      ]
    },
    {
      "cell_type": "markdown",
      "metadata": {
        "id": "EJ8YW-NqYJPW"
      },
      "source": [
        "15. How to add a border (filled with 0's) around an existing array? "
      ]
    },
    {
      "cell_type": "code",
      "metadata": {
        "colab": {
          "base_uri": "https://localhost:8080/"
        },
        "id": "KaQ6hdSRYCJP",
        "outputId": "ec45bc47-b5ef-49ae-e26f-fcbe3d775b7b"
      },
      "source": [
        "x=np.ones((3,3))\n",
        "print(x)\n",
        "y=np.pad(x,1,mode='constant',constant_values=0)\n",
        "print(y)"
      ],
      "execution_count": 17,
      "outputs": [
        {
          "output_type": "stream",
          "text": [
            "[[1. 1. 1.]\n",
            " [1. 1. 1.]\n",
            " [1. 1. 1.]]\n",
            "[[0. 0. 0. 0. 0.]\n",
            " [0. 1. 1. 1. 0.]\n",
            " [0. 1. 1. 1. 0.]\n",
            " [0. 1. 1. 1. 0.]\n",
            " [0. 0. 0. 0. 0.]]\n"
          ],
          "name": "stdout"
        }
      ]
    },
    {
      "cell_type": "markdown",
      "metadata": {
        "id": "Iy73mYDDZC4V"
      },
      "source": [
        "16. How to Accessing/Changing specific elements, rows, columns, etc in Numpy array?\n",
        "\n",
        "Example -\n",
        "[[ 1 2 3 4 5 6 7] [ 8 9 10 11 12 13 14]]\n",
        "\n",
        "Get 13, get first row only, get 3rd column only, get [2, 4, 6], replace 13 by 20"
      ]
    },
    {
      "cell_type": "code",
      "metadata": {
        "colab": {
          "base_uri": "https://localhost:8080/"
        },
        "id": "IK-hYKAQYz7a",
        "outputId": "a1079091-e632-4916-a11d-cae6a1954ad1"
      },
      "source": [
        "m=np.arange(1,15).reshape(2,7)\n",
        "print(m)\n",
        "print('Get 13',m[1,-2])\n",
        "print('get first row only',m[0,])\n",
        "print('get 3rd column only\\n',m[:,[2]])\n",
        "print('get [2, 4, 6],\\n',m[0,][1::2])\n",
        "m[1,-2]=20\n",
        "print('replace 13 by 20')\n",
        "m"
      ],
      "execution_count": 18,
      "outputs": [
        {
          "output_type": "stream",
          "text": [
            "[[ 1  2  3  4  5  6  7]\n",
            " [ 8  9 10 11 12 13 14]]\n",
            "Get 13 13\n",
            "get first row only [1 2 3 4 5 6 7]\n",
            "get 3rd column only\n",
            " [[ 3]\n",
            " [10]]\n",
            "get [2, 4, 6],\n",
            " [2 4 6]\n",
            "replace 13 by 20\n"
          ],
          "name": "stdout"
        },
        {
          "output_type": "execute_result",
          "data": {
            "text/plain": [
              "array([[ 1,  2,  3,  4,  5,  6,  7],\n",
              "       [ 8,  9, 10, 11, 12, 20, 14]])"
            ]
          },
          "metadata": {
            "tags": []
          },
          "execution_count": 18
        }
      ]
    },
    {
      "cell_type": "markdown",
      "metadata": {
        "id": "WAJ5fHNlgIqf"
      },
      "source": [
        "17. How to Convert a 1D array to a 2D array with 2 rows"
      ]
    },
    {
      "cell_type": "code",
      "metadata": {
        "colab": {
          "base_uri": "https://localhost:8080/"
        },
        "id": "Z3wMMxgJZQi3",
        "outputId": "4955a3c8-57bf-4810-9db8-e22c0fae9173"
      },
      "source": [
        "m1d=np.array( [ 1,  2,  3,  4,  5,  6,])\n",
        "print('1d array : \\n',m1d)\n",
        "m2d = m1d.reshape(3,2)\n",
        "print('2d array : \\n',m2d)\n"
      ],
      "execution_count": 19,
      "outputs": [
        {
          "output_type": "stream",
          "text": [
            "1d array : \n",
            " [1 2 3 4 5 6]\n",
            "2d array : \n",
            " [[1 2]\n",
            " [3 4]\n",
            " [5 6]]\n"
          ],
          "name": "stdout"
        }
      ]
    },
    {
      "cell_type": "markdown",
      "metadata": {
        "id": "iwgf7i6diZV4"
      },
      "source": [
        "18. Create the following pattern without hardcoding. Use only numpy functions and the below input array a.\n",
        "\n",
        "Input:\n",
        "\n",
        "a = np.array([1,2,3])\n",
        "Desired Output:\n",
        "\n",
        "> array([1, 1, 1, 2, 2, 2, 3, 3, 3, 1, 2, 3, 1, 2, 3, 1, 2, 3])"
      ]
    },
    {
      "cell_type": "code",
      "metadata": {
        "colab": {
          "base_uri": "https://localhost:8080/"
        },
        "id": "mcWdOLlaZhj4",
        "outputId": "63ab6c89-a9bf-4320-f08d-9824e069d155"
      },
      "source": [
        "a = np.array([1,2,3])\n",
        "print(np.concatenate((np.repeat(a,3),np.tile(a,3))))"
      ],
      "execution_count": 20,
      "outputs": [
        {
          "output_type": "stream",
          "text": [
            "[1 1 1 2 2 2 3 3 3 1 2 3 1 2 3 1 2 3]\n"
          ],
          "name": "stdout"
        }
      ]
    },
    {
      "cell_type": "markdown",
      "metadata": {
        "id": "xTqlW-x9oDAp"
      },
      "source": [
        "19. Write a program to show how Numpy taking less memory compared to Python List?"
      ]
    },
    {
      "cell_type": "code",
      "metadata": {
        "id": "fHsUs7lqfxDy",
        "colab": {
          "base_uri": "https://localhost:8080/"
        },
        "outputId": "244f0421-a38c-40f4-9ecf-0c587cc72f01"
      },
      "source": [
        "import sys\n",
        "\n",
        "array = np.arange(100)\n",
        "print(\"Size of NumPy array: \", array.itemsize * array.itemsize)\n",
        "\n",
        "list = range(0, 10)\n",
        "print(\"Size of list: \", sys.getsizeof(1)*len(list))"
      ],
      "execution_count": 21,
      "outputs": [
        {
          "output_type": "stream",
          "text": [
            "Size of NumPy array:  64\n",
            "Size of list:  280\n"
          ],
          "name": "stdout"
        }
      ]
    },
    {
      "cell_type": "markdown",
      "metadata": {
        "id": "bj69DOMLoocC"
      },
      "source": [
        "NumPy array consumes less memory as compared to the Python list."
      ]
    },
    {
      "cell_type": "markdown",
      "metadata": {
        "id": "l3HE34IcoTla"
      },
      "source": [
        "20. Write a program to show how Numpy taking less time compared to Python List?"
      ]
    },
    {
      "cell_type": "code",
      "metadata": {
        "colab": {
          "base_uri": "https://localhost:8080/"
        },
        "id": "B-N8mD9HoL3O",
        "outputId": "62ac5fbd-ef79-4962-bb52-168e0afa312d"
      },
      "source": [
        "import time\n",
        "import sys\n",
        "\n",
        "Size = 100000\n",
        "\n",
        "list1 = range(Size)\n",
        "list2 = range(Size)\n",
        "\n",
        "arr1 = np.arange(Size)\n",
        "arr2 = np.arange(Size)\n",
        "\n",
        "start = time.time()\n",
        "result = [(x*y) for x, y in zip(list1, list2)]        \n",
        "print(\"Time for Python List in msec: \", (time.time() - start) * 1000)\n",
        "\n",
        "start = time.time()\n",
        "result = arr1*arr2\n",
        "print(\"Time for NumPy array in msec: \", (time.time()- start) * 1000)\n"
      ],
      "execution_count": 22,
      "outputs": [
        {
          "output_type": "stream",
          "text": [
            "Time for Python List in msec:  11.963129043579102\n",
            "Time for NumPy array in msec:  2.0363330841064453\n"
          ],
          "name": "stdout"
        }
      ]
    }
  ]
}