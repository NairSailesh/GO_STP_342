{
 "cells": [
  {
   "cell_type": "markdown",
   "id": "01756cd8",
   "metadata": {},
   "source": [
    "##Task 3\n",
    "#GO_STP_342\n",
    "Task: https://www.goeduhub.com/11531/dictionary-question-exercise-practice-solutions-learning"
   ]
  },
  {
   "cell_type": "markdown",
   "id": "485c0321",
   "metadata": {},
   "source": [
    "---\n",
    "\n",
    "Q.1 Write a Python Program to sort (ascending and descending) a dictionary by value. "
   ]
  },
  {
   "cell_type": "code",
   "execution_count": 1,
   "id": "585d44fb",
   "metadata": {},
   "outputs": [
    {
     "name": "stdout",
     "output_type": "stream",
     "text": [
      "Original Dictionary: {1: 'a', 3: 'd', 2: 'f', 4: 'e', 5: 'c'}\n",
      "Ascending order sorted:  {1: 'a', 5: 'c', 3: 'd', 4: 'e', 2: 'f'}\n",
      "Descending order sorted:  {2: 'f', 4: 'e', 3: 'd', 5: 'c', 1: 'a'}\n"
     ]
    }
   ],
   "source": [
    "import operator\n",
    "dict1={1:'a',3:'d',2:'f',4:'e',5:'c'}\n",
    "sorted_dict=dict(sorted(dict1.items(),key=operator.itemgetter(1)))\n",
    "print(\"Original Dictionary:\",dict1)\n",
    "print(\"Ascending order sorted: \",sorted_dict)\n",
    "rev_sorted_dict=dict(sorted(dict1.items(),key=operator.itemgetter(1),reverse=True))\n",
    "print(\"Descending order sorted: \",rev_sorted_dict)\n"
   ]
  },
  {
   "cell_type": "markdown",
   "id": "078446d2",
   "metadata": {},
   "source": [
    "---\n",
    "Q.2 Write a Python Program to add a key to a dictionary. "
   ]
  },
  {
   "cell_type": "code",
   "execution_count": 2,
   "id": "90260709",
   "metadata": {},
   "outputs": [
    {
     "name": "stdout",
     "output_type": "stream",
     "text": [
      "{1: 'a', 3: 'd', 2: 'f', 4: 'e', 5: 'c', 12: '30'}\n"
     ]
    }
   ],
   "source": [
    "dict1.update({12:'30'})\n",
    "print(dict1)"
   ]
  },
  {
   "cell_type": "markdown",
   "id": "00735be1",
   "metadata": {},
   "source": [
    "---\n",
    "Q.3 Write a  program asks for City name and Temperature and builds a dictionary using that Later on you can input City name and it will tell you the Temperature of that City."
   ]
  },
  {
   "cell_type": "code",
   "execution_count": 3,
   "id": "6514e642",
   "metadata": {},
   "outputs": [
    {
     "name": "stdout",
     "output_type": "stream",
     "text": [
      " Enter q to exit data entry\n",
      "Enter city name: Delhi\n",
      "Enter temperature: 39\n",
      "Enter city name: kolkata\n",
      "Enter temperature: 35\n",
      "Enter city name: mumbai\n",
      "Enter temperature: 36\n",
      "Enter city name: chennai\n",
      "Enter temperature: 39\n",
      "Enter city name: pune\n",
      "Enter temperature: 31\n",
      "Enter city name: q\n",
      " Enter the name of the city to find Temparature pune\n",
      "Temperature of  PUNE is  31\n"
     ]
    }
   ],
   "source": [
    "city_temp={}\n",
    "print (\" Enter q to exit data entry\")\n",
    "while True:\n",
    "    city=input(\"Enter city name: \").upper()\n",
    "    if city == 'Q':\n",
    "        break\n",
    "    else:\n",
    "        temp=eval(input(\"Enter temperature: \"))\n",
    "        if temp == 'Q':\n",
    "            break   \n",
    "    city_temp[city]=temp\n",
    "    \n",
    "display_city= input(' Enter the name of the city to find Temparature ').upper()\n",
    "\n",
    "if (len(city_temp)==0):\n",
    "    print('The dictionary is empty')\n",
    "elif display_city not in city_temp.keys():\n",
    "    print('Entered City is not present in dictionary')\n",
    "else: \n",
    "    print('Temperature of ', display_city, 'is ',city_temp[display_city])\n",
    "\n"
   ]
  },
  {
   "cell_type": "markdown",
   "id": "d10c4825",
   "metadata": {},
   "source": [
    "---\n",
    "Q. 4 Write a Python program to convert list to list of dictionaries.\n",
    "\n",
    "Sample lists: [\"Black\", \"Red\", \"Maroon\", \"Yellow\"], [\"#000000\", \"#FF0000\", \"#800000\", \"#FFFF00\"]\n",
    "\n",
    "Expected Output: [{'color_name': 'Black', 'color_code': '#000000'}, {'color_name': 'Red', 'color_code': '#FF0000'}, {'color_name': 'Maroon', 'color_code': '#800000'}, {'color_name': 'Yellow', 'color_code': '#FFFF00'}]"
   ]
  },
  {
   "cell_type": "code",
   "execution_count": 4,
   "id": "6877ad0d",
   "metadata": {},
   "outputs": [
    {
     "data": {
      "text/plain": [
       "[{'color_name': 'Black', 'color_code': '#000000'},\n",
       " {'color_name': 'Red', 'color_code': '#FF0000'},\n",
       " {'color_name': 'Maroon', 'color_code': '#800000'},\n",
       " {'color_name': 'Yellow', 'color_code': '#FFFF00'}]"
      ]
     },
     "execution_count": 4,
     "metadata": {},
     "output_type": "execute_result"
    }
   ],
   "source": [
    "clr_nm_lst=[\"Black\", \"Red\", \"Maroon\", \"Yellow\"]\n",
    "clr_cd_lst= [\"#000000\", \"#FF0000\", \"#800000\", \"#FFFF00\"]\n",
    "color=[]\n",
    "for i in range(0, len(clr_nm_lst)):\n",
    "    color.append({'color_name':clr_nm_lst[i],'color_code':clr_cd_lst[i]})\n",
    "color"
   ]
  },
  {
   "cell_type": "markdown",
   "id": "5964bbd8",
   "metadata": {},
   "source": [
    "---\n",
    "Q. 5 We have following information on Employees and their Salary (Salary is in lakhs),\n",
    "\n",
    "Employee\tSalary\n",
    "John\t14\n",
    "Smith\t13\n",
    "Alice\t32\n",
    "Daneil\t21\n",
    "1. Using above create a dictionary of Employees and their Salary\n",
    "Write a program that asks user for three type of inputs,\n",
    "print: if user enter print then it should print all Employees with their Salary in this format,\n",
    "John ==>14\n",
    "Smith ==>13\n",
    "Alice ==>32\n",
    " Daneil ==>21\n",
    "2. add: if user input adds then it should further ask for an Employee name to add. If Employee already exists in our dataset then it should print that it exists and do nothing. If it doesn't then it asks for Salary and add that new Employee/Salary in our dictionary and print it\n",
    "3. remove: when user inputs remove it should ask for an Employee to remove. If an Employee exists in our dictionary then remove it and print a new dictionary using format shown above in (a). Else print that Employee doesn't exist!\n",
    "4. query: on this again ask the user for which Employee he or she wants to query. When a user inputs that Employee it will print the Salary of that Employee."
   ]
  },
  {
   "cell_type": "code",
   "execution_count": 6,
   "id": "0fc13f63",
   "metadata": {},
   "outputs": [
    {
     "name": "stdout",
     "output_type": "stream",
     "text": [
      "\n",
      "1) Print All the records : \n",
      "2) Add New Record : \n",
      "3) Remove exists Record : \n",
      "4) Query Single Record: \n",
      "5) Exit\n",
      "Enter the Option : 1\n",
      "Output Records:\n",
      "\tEmployee\tSalary\n",
      "\t John  ==>  14\n",
      "\t Smith  ==>  13\n",
      "\t Alice  ==>  32\n",
      "\t Daneil  ==>  21\n",
      "\n",
      "1) Print All the records : \n",
      "2) Add New Record : \n",
      "3) Remove exists Record : \n",
      "4) Query Single Record: \n",
      "5) Exit\n",
      "Enter the Option : 2\n",
      "Enter Employee Name: sai\n",
      "The Salary of the Employee : 13\n",
      "Output Records:\n",
      "\tEmployee\tSalary\n",
      "\t John  ==>  14\n",
      "\t Smith  ==>  13\n",
      "\t Alice  ==>  32\n",
      "\t Daneil  ==>  21\n",
      "\t Sai  ==>  13\n",
      "\n",
      "1) Print All the records : \n",
      "2) Add New Record : \n",
      "3) Remove exists Record : \n",
      "4) Query Single Record: \n",
      "5) Exit\n",
      "Enter the Option : 3\n",
      "Enter Employee Name for removal: sai\n",
      "The Employee record is removed!\n",
      "Output Records:\n",
      "\tEmployee\tSalary\n",
      "\t John  ==>  14\n",
      "\t Smith  ==>  13\n",
      "\t Alice  ==>  32\n",
      "\t Daneil  ==>  21\n",
      "\n",
      "1) Print All the records : \n",
      "2) Add New Record : \n",
      "3) Remove exists Record : \n",
      "4) Query Single Record: \n",
      "5) Exit\n",
      "Enter the Option : 4\n",
      "Enter the Employee Name : alice\n",
      "The Salary of Given Employee :  32\n",
      "\n",
      "1) Print All the records : \n",
      "2) Add New Record : \n",
      "3) Remove exists Record : \n",
      "4) Query Single Record: \n",
      "5) Exit\n",
      "Enter the Option : 6\n",
      "Invalid Option\n",
      "\n",
      "1) Print All the records : \n",
      "2) Add New Record : \n",
      "3) Remove exists Record : \n",
      "4) Query Single Record: \n",
      "5) Exit\n",
      "Enter the Option : 5\n"
     ]
    }
   ],
   "source": [
    "emp_dict = {'John' : 14,'Smith' : 13,'Alice' : 32,'Daneil' : 21}\n",
    "\n",
    "def print_rec():\n",
    "    print('Output Records:')\n",
    "    print('\\tEmployee\\tSalary')\n",
    "    for rec in emp_dict.items():\n",
    "        print('\\t',rec[0],' ==> ',rec[1])\n",
    "        \n",
    "def add_rec():\n",
    "    emp_name = input('Enter Employee Name: ').capitalize()\n",
    "    if emp_name in emp_dict.keys():\n",
    "        print('The Employee already exists!')\n",
    "    else:\n",
    "        emp_salary = eval(input('The Salary of the Employee : '))\n",
    "        emp_dict.update({emp_name : emp_salary})\n",
    "        \n",
    "def remove_rec():\n",
    "    emp_name = input('Enter Employee Name for removal: ').capitalize()\n",
    "    if emp_name in emp_dict.keys():\n",
    "        emp_dict.pop(emp_name)\n",
    "        print('The Employee record is removed!')\n",
    "    else:\n",
    "        print('The Employee record does not exist!')\n",
    "        \n",
    "def query_rec():\n",
    "    emp_name = input('Enter the Employee Name : ').capitalize()\n",
    "    if emp_name in emp_dict.keys():\n",
    "        print('The Salary of Given Employee : ',emp_dict[emp_name])\n",
    "    else:\n",
    "        print('The Given Employee Not Exists !')\n",
    "\n",
    "while True:\n",
    "    print('')\n",
    "    print('1) Print All the records : ')\n",
    "    print('2) Add New Record : ')\n",
    "    print('3) Remove exists Record : ')\n",
    "    print('4) Query Single Record: ')\n",
    "    print('5) Exit')\n",
    "    option = eval(input('Enter the Option : '))\n",
    "    if option == 1:\n",
    "        print_rec()\n",
    "    elif option == 2:\n",
    "        add_rec()\n",
    "        print_rec()\n",
    "    elif option == 3:\n",
    "        remove_rec()\n",
    "        print_rec()\n",
    "    elif option == 4:\n",
    "        query_rec()\n",
    "    elif option == 5:\n",
    "        break\n",
    "    else:\n",
    "        print('Invalid Option')"
   ]
  },
  {
   "cell_type": "markdown",
   "id": "6ad1005c",
   "metadata": {},
   "source": [
    "---\n",
    "##Set Questions\n",
    " Q.1 What is the difference between a set and a frozenset? Create any set and try to use frozenset(setname)."
   ]
  },
  {
   "cell_type": "markdown",
   "id": "73b3a758",
   "metadata": {},
   "source": [
    "A: Frozen set is just an immutable version of a Python set object. While elements of a set can be modified at any time, elements of the frozen set remain the same after creation."
   ]
  },
  {
   "cell_type": "code",
   "execution_count": 7,
   "id": "13845fa9",
   "metadata": {},
   "outputs": [
    {
     "name": "stdout",
     "output_type": "stream",
     "text": [
      "The frozen set is: frozenset({'Fri', 'Tue', 'Sat', 'Wed', 'Mon', 'Sun', 'Thu'})\n",
      "The empty frozen set is: frozenset()\n"
     ]
    },
    {
     "ename": "AttributeError",
     "evalue": "'frozenset' object has no attribute 'add'",
     "output_type": "error",
     "traceback": [
      "\u001b[1;31m---------------------------------------------------------------------------\u001b[0m",
      "\u001b[1;31mAttributeError\u001b[0m                            Traceback (most recent call last)",
      "\u001b[1;32m<ipython-input-7-77aabfa6a41f>\u001b[0m in \u001b[0;36m<module>\u001b[1;34m\u001b[0m\n\u001b[0;32m      5\u001b[0m \u001b[0mprint\u001b[0m\u001b[1;33m(\u001b[0m\u001b[1;34m'The empty frozen set is:'\u001b[0m\u001b[1;33m,\u001b[0m \u001b[0mfrozenset\u001b[0m\u001b[1;33m(\u001b[0m\u001b[1;33m)\u001b[0m\u001b[1;33m)\u001b[0m\u001b[1;33m\u001b[0m\u001b[1;33m\u001b[0m\u001b[0m\n\u001b[0;32m      6\u001b[0m \u001b[1;33m\u001b[0m\u001b[0m\n\u001b[1;32m----> 7\u001b[1;33m \u001b[0mfSet\u001b[0m\u001b[1;33m.\u001b[0m\u001b[0madd\u001b[0m\u001b[1;33m(\u001b[0m\u001b[1;34m'Nov'\u001b[0m\u001b[1;33m)\u001b[0m\u001b[1;33m\u001b[0m\u001b[1;33m\u001b[0m\u001b[0m\n\u001b[0m",
      "\u001b[1;31mAttributeError\u001b[0m: 'frozenset' object has no attribute 'add'"
     ]
    }
   ],
   "source": [
    "week = ('Sun', 'Mon', 'Tue', 'Wed', 'Thu','Fri','Sat')\n",
    "\n",
    "fSet = frozenset(week)\n",
    "print('The frozen set is:', fSet)\n",
    "print('The empty frozen set is:', frozenset())\n",
    "\n",
    "fSet.add('Nov')"
   ]
  },
  {
   "cell_type": "markdown",
   "id": "3f9959e6",
   "metadata": {},
   "source": [
    "---\n",
    "Q.2 Find the elements in a given set that are not in another set\n",
    "\n",
    "    set1 = {10,20,30,40,50}\n",
    "\n",
    "    set2 = {40,50,60,70,80}"
   ]
  },
  {
   "cell_type": "code",
   "execution_count": 8,
   "id": "57a704fe",
   "metadata": {},
   "outputs": [
    {
     "name": "stdout",
     "output_type": "stream",
     "text": [
      " Difference between set1 and set2 is {10, 20, 30}\n"
     ]
    }
   ],
   "source": [
    "set1 = {10, 20, 30, 40, 50}\n",
    "set2 = {40, 50, 60, 70, 80}\n",
    "set1.difference_update(set2)\n",
    "print(' Difference between set1 and set2 is', set1 )"
   ]
  },
  {
   "cell_type": "code",
   "execution_count": null,
   "id": "f4dbf017",
   "metadata": {},
   "outputs": [],
   "source": []
  }
 ],
 "metadata": {
  "kernelspec": {
   "display_name": "Python 3",
   "language": "python",
   "name": "python3"
  },
  "language_info": {
   "codemirror_mode": {
    "name": "ipython",
    "version": 3
   },
   "file_extension": ".py",
   "mimetype": "text/x-python",
   "name": "python",
   "nbconvert_exporter": "python",
   "pygments_lexer": "ipython3",
   "version": "3.8.8"
  }
 },
 "nbformat": 4,
 "nbformat_minor": 5
}
