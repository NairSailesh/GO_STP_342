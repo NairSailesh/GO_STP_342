{
 "cells": [
  {
   "cell_type": "markdown",
   "id": "636de875",
   "metadata": {},
   "source": [
    "Find the students scores based on their study hours. This is a simple Regression problem type because it has only two variables. "
   ]
  },
  {
   "cell_type": "code",
   "execution_count": 1,
   "id": "373b614f",
   "metadata": {},
   "outputs": [],
   "source": [
    "#imports\n",
    "from matplotlib import pyplot as plt\n",
    "import numpy as np\n",
    "import pandas as pd\n",
    "import sklearn\n",
    "from sklearn.linear_model import LinearRegression\n",
    "from sklearn.metrics import r2_score,mean_squared_error\n",
    "st= pd.read_csv('./dataset/StudentHoursScores.csv')"
   ]
  },
  {
   "cell_type": "code",
   "execution_count": 2,
   "id": "86de9258",
   "metadata": {},
   "outputs": [
    {
     "data": {
      "text/plain": [
       "(23, 2)"
      ]
     },
     "execution_count": 2,
     "metadata": {},
     "output_type": "execute_result"
    }
   ],
   "source": [
    "st.shape"
   ]
  },
  {
   "cell_type": "code",
   "execution_count": 3,
   "id": "cb026d4e",
   "metadata": {},
   "outputs": [
    {
     "data": {
      "text/html": [
       "<div>\n",
       "<style scoped>\n",
       "    .dataframe tbody tr th:only-of-type {\n",
       "        vertical-align: middle;\n",
       "    }\n",
       "\n",
       "    .dataframe tbody tr th {\n",
       "        vertical-align: top;\n",
       "    }\n",
       "\n",
       "    .dataframe thead th {\n",
       "        text-align: right;\n",
       "    }\n",
       "</style>\n",
       "<table border=\"1\" class=\"dataframe\">\n",
       "  <thead>\n",
       "    <tr style=\"text-align: right;\">\n",
       "      <th></th>\n",
       "      <th>Hours</th>\n",
       "      <th>Scores</th>\n",
       "    </tr>\n",
       "  </thead>\n",
       "  <tbody>\n",
       "    <tr>\n",
       "      <th>count</th>\n",
       "      <td>23.000000</td>\n",
       "      <td>23.000000</td>\n",
       "    </tr>\n",
       "    <tr>\n",
       "      <th>mean</th>\n",
       "      <td>4.817391</td>\n",
       "      <td>47.695652</td>\n",
       "    </tr>\n",
       "    <tr>\n",
       "      <th>std</th>\n",
       "      <td>2.709688</td>\n",
       "      <td>27.103228</td>\n",
       "    </tr>\n",
       "    <tr>\n",
       "      <th>min</th>\n",
       "      <td>1.100000</td>\n",
       "      <td>12.000000</td>\n",
       "    </tr>\n",
       "    <tr>\n",
       "      <th>25%</th>\n",
       "      <td>2.650000</td>\n",
       "      <td>27.000000</td>\n",
       "    </tr>\n",
       "    <tr>\n",
       "      <th>50%</th>\n",
       "      <td>4.100000</td>\n",
       "      <td>40.000000</td>\n",
       "    </tr>\n",
       "    <tr>\n",
       "      <th>75%</th>\n",
       "      <td>7.100000</td>\n",
       "      <td>72.500000</td>\n",
       "    </tr>\n",
       "    <tr>\n",
       "      <th>max</th>\n",
       "      <td>9.600000</td>\n",
       "      <td>96.000000</td>\n",
       "    </tr>\n",
       "  </tbody>\n",
       "</table>\n",
       "</div>"
      ],
      "text/plain": [
       "           Hours     Scores\n",
       "count  23.000000  23.000000\n",
       "mean    4.817391  47.695652\n",
       "std     2.709688  27.103228\n",
       "min     1.100000  12.000000\n",
       "25%     2.650000  27.000000\n",
       "50%     4.100000  40.000000\n",
       "75%     7.100000  72.500000\n",
       "max     9.600000  96.000000"
      ]
     },
     "execution_count": 3,
     "metadata": {},
     "output_type": "execute_result"
    }
   ],
   "source": [
    "st.describe()"
   ]
  },
  {
   "cell_type": "code",
   "execution_count": 4,
   "id": "aadccb80",
   "metadata": {},
   "outputs": [
    {
     "data": {
      "text/html": [
       "<div>\n",
       "<style scoped>\n",
       "    .dataframe tbody tr th:only-of-type {\n",
       "        vertical-align: middle;\n",
       "    }\n",
       "\n",
       "    .dataframe tbody tr th {\n",
       "        vertical-align: top;\n",
       "    }\n",
       "\n",
       "    .dataframe thead th {\n",
       "        text-align: right;\n",
       "    }\n",
       "</style>\n",
       "<table border=\"1\" class=\"dataframe\">\n",
       "  <thead>\n",
       "    <tr style=\"text-align: right;\">\n",
       "      <th></th>\n",
       "      <th>Hours</th>\n",
       "      <th>Scores</th>\n",
       "    </tr>\n",
       "  </thead>\n",
       "  <tbody>\n",
       "    <tr>\n",
       "      <th>0</th>\n",
       "      <td>7.7</td>\n",
       "      <td>79</td>\n",
       "    </tr>\n",
       "    <tr>\n",
       "      <th>1</th>\n",
       "      <td>5.9</td>\n",
       "      <td>60</td>\n",
       "    </tr>\n",
       "    <tr>\n",
       "      <th>2</th>\n",
       "      <td>4.5</td>\n",
       "      <td>45</td>\n",
       "    </tr>\n",
       "    <tr>\n",
       "      <th>3</th>\n",
       "      <td>3.3</td>\n",
       "      <td>33</td>\n",
       "    </tr>\n",
       "    <tr>\n",
       "      <th>4</th>\n",
       "      <td>1.1</td>\n",
       "      <td>12</td>\n",
       "    </tr>\n",
       "  </tbody>\n",
       "</table>\n",
       "</div>"
      ],
      "text/plain": [
       "   Hours  Scores\n",
       "0    7.7      79\n",
       "1    5.9      60\n",
       "2    4.5      45\n",
       "3    3.3      33\n",
       "4    1.1      12"
      ]
     },
     "execution_count": 4,
     "metadata": {},
     "output_type": "execute_result"
    }
   ],
   "source": [
    "st.head()"
   ]
  },
  {
   "cell_type": "code",
   "execution_count": 5,
   "id": "e9b6a0b8",
   "metadata": {},
   "outputs": [
    {
     "data": {
      "image/png": "[encoded data removed]",
      "text/plain": [
       "<Figure size 432x288 with 1 Axes>"
      ]
     },
     "metadata": {
      "needs_background": "light"
     },
     "output_type": "display_data"
    }
   ],
   "source": [
    "X=st['Hours']\n",
    "Y=st['Scores']\n",
    "\n",
    "plt.xlabel(\"Hours\")\n",
    "plt.ylabel(\"Score\")\n",
    "plt.scatter(X,Y,color = 'green',marker='o')\n",
    "plt.plot()\n",
    "plt.show()"
   ]
  },
  {
   "cell_type": "code",
   "execution_count": 6,
   "id": "8ead1e64",
   "metadata": {},
   "outputs": [
    {
     "name": "stdout",
     "output_type": "stream",
     "text": [
      "X:  [[7.7]\n",
      " [5.9]\n",
      " [4.5]\n",
      " [3.3]\n",
      " [1.1]\n",
      " [8.9]\n",
      " [2.5]\n",
      " [1.9]\n",
      " [2.7]\n",
      " [8.3]\n",
      " [5.5]\n",
      " [9.2]\n",
      " [1.5]\n",
      " [3.5]\n",
      " [8.5]\n",
      " [3.2]\n",
      " [6.5]\n",
      " [2.5]\n",
      " [9.6]\n",
      " [4.3]\n",
      " [4.1]\n",
      " [3. ]\n",
      " [2.6]]\n",
      "Y:  [79 60 45 33 12 87 21 19 29 81 58 88 14 34 85 32 66 21 96 42 40 30 25]\n"
     ]
    }
   ],
   "source": [
    "X=st.iloc[:,:-1].values\n",
    "Y=st.iloc[:,1].values\n",
    "print('X: ',X)\n",
    "print('Y: ',Y)"
   ]
  },
  {
   "cell_type": "code",
   "execution_count": 7,
   "id": "a18d89a3",
   "metadata": {},
   "outputs": [],
   "source": [
    "X_train, X_test, Y_train, Y_test = sklearn.model_selection.train_test_split(X, Y, test_size = 0.33, random_state = 42)"
   ]
  },
  {
   "cell_type": "code",
   "execution_count": 8,
   "id": "f7d16f28",
   "metadata": {},
   "outputs": [],
   "source": [
    "lr = LinearRegression()\n",
    "\n",
    "m1=lr.fit(X_train, Y_train)\n",
    "\n",
    "Y_train_pred = lr.predict(X_train)\n",
    "\n",
    "Y_test_pred = lr.predict(X_test)"
   ]
  },
  {
   "cell_type": "code",
   "execution_count": 9,
   "id": "8ea18d71",
   "metadata": {},
   "outputs": [
    {
     "data": {
      "text/plain": [
       "array([9.90147351])"
      ]
     },
     "execution_count": 9,
     "metadata": {},
     "output_type": "execute_result"
    }
   ],
   "source": [
    "m1.coef_"
   ]
  },
  {
   "cell_type": "code",
   "execution_count": 10,
   "id": "357ae90f",
   "metadata": {},
   "outputs": [
    {
     "data": {
      "text/plain": [
       "-0.0374166764121"
      ]
     },
     "execution_count": 10,
     "metadata": {},
     "output_type": "execute_result"
    }
   ],
   "source": [
    "m1.intercept_"
   ]
  },
  {
   "cell_type": "code",
   "execution_count": 11,
   "id": "fa649a9b",
   "metadata": {},
   "outputs": [
    {
     "data": {
      "text/plain": [
       "array([49.46995088])"
      ]
     },
     "execution_count": 11,
     "metadata": {},
     "output_type": "execute_result"
    }
   ],
   "source": [
    "m1.predict([[5]])"
   ]
  },
  {
   "cell_type": "code",
   "execution_count": 12,
   "id": "ef434e26",
   "metadata": {},
   "outputs": [
    {
     "name": "stdout",
     "output_type": "stream",
     "text": [
      "            0\n",
      "32  31.647299\n",
      "81  82.144813\n",
      "79  76.203929\n",
      "29  26.696562\n",
      "21  24.716267\n"
     ]
    }
   ],
   "source": [
    "df=pd.DataFrame(Y_test_pred,Y_test)\n",
    "\n",
    "print(df.head()) "
   ]
  },
  {
   "cell_type": "code",
   "execution_count": 13,
   "id": "336af853",
   "metadata": {},
   "outputs": [
    {
     "name": "stdout",
     "output_type": "stream",
     "text": [
      "Accuracy is:  0.9932521891609714\n",
      "MSE:  4.0044039947860615\n"
     ]
    }
   ],
   "source": [
    "print(\"Accuracy is: \", r2_score(Y_test,Y_test_pred))\n",
    "print(\"MSE: \",mean_squared_error(Y_test,Y_test_pred))"
   ]
  },
  {
   "cell_type": "code",
   "execution_count": 14,
   "id": "b5c6c441",
   "metadata": {},
   "outputs": [
    {
     "data": {
      "image/png": "[encoded data removed]",
      "text/plain": [
       "<Figure size 432x288 with 1 Axes>"
      ]
     },
     "metadata": {
      "needs_background": "light"
     },
     "output_type": "display_data"
    }
   ],
   "source": [
    "plt.scatter(X_train ,Y_train,c='blue',marker='^',label='Training data')\n",
    "plt.plot(X_train,m1.predict(X_train),c='r')\n",
    "\n",
    "plt.xlabel('True values')\n",
    "plt.ylabel('Predicted')\n",
    "\n",
    "plt.title(\"True value vs Predicted value\")\n",
    "\n",
    "plt.plot()\n",
    "plt.show()"
   ]
  },
  {
   "cell_type": "code",
   "execution_count": 15,
   "id": "e30f1cc4",
   "metadata": {},
   "outputs": [
    {
     "data": {
      "image/png": "[encoded data removed]",
      "text/plain": [
       "<Figure size 432x288 with 1 Axes>"
      ]
     },
     "metadata": {
      "needs_background": "light"
     },
     "output_type": "display_data"
    }
   ],
   "source": [
    "plt.scatter(X_test ,Y_test,c='blue',marker='o',label='Training data')\n",
    "plt.plot(X_test,m1.predict(X_test),c='r')\n",
    "plt.scatter(X_test ,Y_test_pred,c='lightgreen',marker='s',label='Training data')\n",
    "\n",
    "plt.xlabel('True values')\n",
    "plt.ylabel('Predicted')\n",
    "plt.title(\"True value vs Predicted value\")\n",
    "\n",
    "plt.legend()\n",
    "plt.plot()\n",
    "plt.show()"
   ]
  }
 ],
 "metadata": {
  "kernelspec": {
   "display_name": "Python 3",
   "language": "python",
   "name": "python3"
  },
  "language_info": {
   "codemirror_mode": {
    "name": "ipython",
    "version": 3
   },
   "file_extension": ".py",
   "mimetype": "text/x-python",
   "name": "python",
   "nbconvert_exporter": "python",
   "pygments_lexer": "ipython3",
   "version": "3.8.8"
  }
 },
 "nbformat": 4,
 "nbformat_minor": 5
}
