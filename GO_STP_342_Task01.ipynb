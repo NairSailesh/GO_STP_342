{
  "nbformat": 4,
  "nbformat_minor": 0,
  "metadata": {
    "colab": {
      "name": "GO_STP_342-Task01.ipynb",
      "provenance": [],
      "collapsed_sections": []
    },
    "kernelspec": {
      "name": "python3",
      "display_name": "Python 3"
    },
    "language_info": {
      "name": "python"
    }
  },
  "cells": [
    {
      "cell_type": "markdown",
      "metadata": {
        "id": "b0xWWb5IiH-O"
      },
      "source": [
        "#Task - 01 \n",
        "GO_STP_342\n",
        "Sailesh Nair\n",
        "\n",
        "#Problem-1\n",
        "\n",
        "We are having 3 list like this\n",
        "\n",
        "Colors = [“Yellow”,”Green”,”White”,”Black”]\n",
        "\n",
        "Fruits=[“Apple”,”Papaya”,”Mango”,”Orange”]\n",
        "\n",
        "Animals=[“Tiger”,”Lion”,”Deer”,”Zebra”]\n",
        "\n",
        "i. Write a program that asks user to enter a Color/Fruit/Animal name and it should tell which category belongs to , like it is a fruit or color or Animal"
      ]
    },
    {
      "cell_type": "code",
      "metadata": {
        "id": "SXY8gSvRiCf_",
        "colab": {
          "base_uri": "https://localhost:8080/"
        },
        "outputId": "86c6d870-958a-42f2-b4d7-27ea420e9d93"
      },
      "source": [
        "Colors = [\"Yellow\",\"Green\",\"White\",\"Black\"]\n",
        "Fruits=[\"Apple\",\"Papaya\",\"Mango\",\"Orange\"]\n",
        "Animals=[\"Tiger\",\"Lion\",\"Deer\",\"Zebra\"]\n",
        "entry =input('Enter a Color/Fruit/Animal name: ')\n",
        "if entry in Colors :\n",
        "  print('It is a Color.')\n",
        "elif entry in Fruits :\n",
        "  print('It is a Fruit.')\n",
        "elif entry in Animals:\n",
        "  print('It is an Animal.')\n",
        "else: \n",
        "  print('Sorry! wrong input.')"
      ],
      "execution_count": null,
      "outputs": [
        {
          "output_type": "stream",
          "text": [
            "Enter a Color/Fruit/Animal name: Black\n",
            "It is a Color.\n"
          ],
          "name": "stdout"
        }
      ]
    },
    {
      "cell_type": "markdown",
      "metadata": {
        "id": "JZixSeUAkbbU"
      },
      "source": [
        " ii. Write a program that asks user to enter two cities and it tells you if they both are in same country or not. For example if I enter yellow and Black, it will print \"Both are colors\" but if I enter yellow and Tiger it should print \"They don't belong to same category\""
      ]
    },
    {
      "cell_type": "code",
      "metadata": {
        "id": "YVR1PuwykePp",
        "colab": {
          "base_uri": "https://localhost:8080/"
        },
        "outputId": "a5b3f512-a09d-4fee-c42d-08e34e5cd9ed"
      },
      "source": [
        "ue1 = input('Enter your category: ')\n",
        "ue2 = input('Enter one more: ')\n",
        "if ue1 in Colors and ue2 in Colors :\n",
        "  print ('Both are Colors.')\n",
        "elif ue1 in Fruits and ue2 in Fruits :\n",
        "  print ('Both are Fruits.')\n",
        "elif ue1 in Animals and ue2 in Animals :\n",
        "  print ('Both are Animals.')\n",
        "else :\n",
        "  print(\"Your inputs don't belong to the same category.\")"
      ],
      "execution_count": null,
      "outputs": [
        {
          "output_type": "stream",
          "text": [
            "Enter your category: Lion\n",
            "Enter one more: Tiger\n",
            "Both are Animals.\n"
          ],
          "name": "stdout"
        }
      ]
    },
    {
      "cell_type": "markdown",
      "metadata": {
        "id": "ohgjn45xloqE"
      },
      "source": [
        "# Problem 2 \n",
        "Write a python program that can tell you if your grade score good or not . Normal Score range is 40 to 60. \n",
        "\n",
        "1.   Ask user to enter his score.\n",
        "2.   If it is below 40 to 60 range then print that score is low\n",
        "3.  If it is above 60 then print that it is good otherwise print that it is normal\n",
        "\n",
        "\n"
      ]
    },
    {
      "cell_type": "code",
      "metadata": {
        "id": "goI7C8fqmbAY",
        "colab": {
          "base_uri": "https://localhost:8080/"
        },
        "outputId": "3f424c1d-3546-4a41-e79a-12fba62db25d"
      },
      "source": [
        "grade_score = int(input('Enter a score: '))\n",
        "if grade_score > 60 :\n",
        "  print('Good score')\n",
        "elif grade_score < 40 :\n",
        "  print('Low score')\n",
        "else :\n",
        "  print('Normal score')"
      ],
      "execution_count": null,
      "outputs": [
        {
          "output_type": "stream",
          "text": [
            "Enter a score: 76\n",
            "Good score\n"
          ],
          "name": "stdout"
        }
      ]
    },
    {
      "cell_type": "markdown",
      "metadata": {
        "id": "ISD1Waiip6Iy"
      },
      "source": [
        "# Problem-3\n",
        "\n",
        "After appearing in exam 10 times you got this result,\n",
        "\n",
        "result = [\"Pass\",\"Fail\",\"Fail\",\"Pass\",\"Fail\",\"Pass\",\"Pass\",\"Fail\",\"Fail\",\"Fail\"]\n",
        "\n",
        " Using for loop figure out how many times you got Pass"
      ]
    },
    {
      "cell_type": "code",
      "metadata": {
        "colab": {
          "base_uri": "https://localhost:8080/"
        },
        "id": "D52suJ2bq8DS",
        "outputId": "b947b339-7f95-4058-a4c9-19e8ca330de7"
      },
      "source": [
        "results = [\"Pass\",\"Fail\",\"Fail\",\"Pass\",\"Fail\",\"Pass\",\"Pass\",\"Fail\",\"Fail\",\"Fail\"]\n",
        "count = 0\n",
        "for i in results :\n",
        "  if i == \"Pass\" :\n",
        "    count += 1\n",
        "print('You passed {} times'.format(count) )"
      ],
      "execution_count": null,
      "outputs": [
        {
          "output_type": "stream",
          "text": [
            "You passed 4 times\n"
          ],
          "name": "stdout"
        }
      ]
    },
    {
      "cell_type": "code",
      "metadata": {
        "colab": {
          "base_uri": "https://localhost:8080/"
        },
        "id": "vlc7Fz6CxOoX",
        "outputId": "df5a674b-f5ec-4655-9cee-90b276c5eee2"
      },
      "source": [
        "results = [\"Pass\",\"Fail\",\"Fail\",\"Pass\",\"Fail\",\"Pass\",\"Pass\",\"Fail\",\"Fail\",\"Fail\"]\n",
        "\n",
        "print('You passed {} times' .format(results.count(\"Pass\")) )"
      ],
      "execution_count": null,
      "outputs": [
        {
          "output_type": "stream",
          "text": [
            "You passed 4 times\n"
          ],
          "name": "stdout"
        }
      ]
    },
    {
      "cell_type": "markdown",
      "metadata": {
        "id": "-kD-baU_qCu5"
      },
      "source": [
        "# Problem-4\n",
        "\n",
        "Write a program that prints following shape\n",
        "\n",
        "\n",
        "``` \n",
        "* \n",
        "* * \n",
        "* * * \n",
        "* * * * \n",
        "* * * * * \n",
        "* * * * \n",
        "* * * \n",
        "* * \n",
        "* \n",
        "```\n",
        "\n",
        "\n"
      ]
    },
    {
      "cell_type": "code",
      "metadata": {
        "colab": {
          "base_uri": "https://localhost:8080/"
        },
        "id": "cqkTTAZBrL7K",
        "outputId": "3c015b47-ceb8-4c0e-a98b-7a5b20128ab8"
      },
      "source": [
        "maxstars = 5\n",
        "for i in range(1, maxstars+1):\n",
        "  print(\"* \"*i)\n",
        "for j in range(maxstars-1,0,-1):\n",
        "  print(\"* \"*j)"
      ],
      "execution_count": null,
      "outputs": [
        {
          "output_type": "stream",
          "text": [
            "* \n",
            "* * \n",
            "* * * \n",
            "* * * * \n",
            "* * * * * \n",
            "* * * * \n",
            "* * * \n",
            "* * \n",
            "* \n"
          ],
          "name": "stdout"
        }
      ]
    },
    {
      "cell_type": "markdown",
      "metadata": {
        "id": "zIYzMozbrcT5"
      },
      "source": [
        "# Problem-5\n",
        "\n",
        "Lets say you are running a 50 km race. Write a program that,\n",
        "\n",
        "Upon completing each 10 km asks you \"are you tired?\"\n",
        "If you reply \"yes\" then it should break and print \"you didn't finish the race.\"\n",
        "If you reply \"no\" then it should continue and ask \"are you tired\" after every 10 km\n",
        "If you finish all 50 km then it should print congratulations message\n"
      ]
    },
    {
      "cell_type": "code",
      "metadata": {
        "colab": {
          "base_uri": "https://localhost:8080/"
        },
        "id": "umY8ZUWbrhih",
        "outputId": "baccde61-1fc4-4e2b-fdd1-9ae81099df6b"
      },
      "source": [
        "for distance in range (1,51,10):\n",
        "  if (distance < 50) :\n",
        "    print('Reached {} kms. Are you tired? '.format(distance))\n",
        "    reply = input('Enter yes or no[Y/N]: ').lower()\n",
        "    if reply == \"y\" :\n",
        "      print(\"You did not finish the race.\")\n",
        "      break\n",
        "    elif reply == \"n\" :\n",
        "      continue \n",
        "    else :\n",
        "      print('Invalid Input')\n",
        "  if distance == 50 :\n",
        "    print('Congratulations! You finished the race.')"
      ],
      "execution_count": null,
      "outputs": [
        {
          "output_type": "stream",
          "text": [
            "Reached 1 kms. Are you tired? \n",
            "Enter yes or no[Y/N]: n\n",
            "Reached 11 kms. Are you tired? \n",
            "Enter yes or no[Y/N]: \n",
            "Invalid Input\n",
            "Reached 21 kms. Are you tired? \n",
            "Enter yes or no[Y/N]: n\n",
            "Reached 31 kms. Are you tired? \n",
            "Enter yes or no[Y/N]: n\n",
            "Reached 41 kms. Are you tired? \n",
            "Enter yes or no[Y/N]: n\n"
          ],
          "name": "stdout"
        }
      ]
    },
    {
      "cell_type": "markdown",
      "metadata": {
        "id": "eWCHOt3Ir-wY"
      },
      "source": [
        "# Problem 6.  \n",
        "Write a Python program to find those numbers which are divisible by 7 and multiple of 5, between 1500 and 2700 (both included)."
      ]
    },
    {
      "cell_type": "code",
      "metadata": {
        "colab": {
          "base_uri": "https://localhost:8080/"
        },
        "id": "e61L90fhriOY",
        "outputId": "19874fec-889c-4ef6-d4de-b939fd034bb3"
      },
      "source": [
        "for num in range (1500,2700):\n",
        "  if (num % 7)==0 and (num % 5)==0:\n",
        "    print(num)"
      ],
      "execution_count": null,
      "outputs": [
        {
          "output_type": "stream",
          "text": [
            "1505\n",
            "1540\n",
            "1575\n",
            "1610\n",
            "1645\n",
            "1680\n",
            "1715\n",
            "1750\n",
            "1785\n",
            "1820\n",
            "1855\n",
            "1890\n",
            "1925\n",
            "1960\n",
            "1995\n",
            "2030\n",
            "2065\n",
            "2100\n",
            "2135\n",
            "2170\n",
            "2205\n",
            "2240\n",
            "2275\n",
            "2310\n",
            "2345\n",
            "2380\n",
            "2415\n",
            "2450\n",
            "2485\n",
            "2520\n",
            "2555\n",
            "2590\n",
            "2625\n",
            "2660\n",
            "2695\n"
          ],
          "name": "stdout"
        }
      ]
    },
    {
      "cell_type": "markdown",
      "metadata": {
        "id": "slGBiwcasF0e"
      },
      "source": [
        "# Problem 7\n",
        "Print square of all numbers between 10 to 20 except even numbers"
      ]
    },
    {
      "cell_type": "code",
      "metadata": {
        "colab": {
          "base_uri": "https://localhost:8080/"
        },
        "id": "lj_f0hu5riWp",
        "outputId": "5c400234-aaf4-43c3-b6ca-1a5c24cdfc70"
      },
      "source": [
        "for num in range (10,20):\n",
        "  if (num % 2)!=0 :\n",
        "    print(num**2)"
      ],
      "execution_count": null,
      "outputs": [
        {
          "output_type": "stream",
          "text": [
            "121\n",
            "169\n",
            "225\n",
            "289\n",
            "361\n"
          ],
          "name": "stdout"
        }
      ]
    },
    {
      "cell_type": "markdown",
      "metadata": {
        "id": "uQi25q7UsLUP"
      },
      "source": [
        "# Problem 8\n",
        "Your Marks for five Test(test1 to test5) looks like this,\n",
        "\n",
        "marks_list = [65, 75, 2100, 95, 83]\n",
        "\n",
        "Write a program that asks you to enter marks and program should tell you in which test that marks occurred. If marks is not found then it should print that as well."
      ]
    },
    {
      "cell_type": "code",
      "metadata": {
        "colab": {
          "base_uri": "https://localhost:8080/"
        },
        "id": "DvgbL6Bprieh",
        "outputId": "940b39d3-4a19-4ec6-be95-7550b27a6b85"
      },
      "source": [
        "marks_list = [65, 75, 2100, 95, 83]\n",
        "marks = int(input('Enter your marks: '))\n",
        "if marks in marks_list:\n",
        "  print('You got this in test',marks_list.index(marks)+1)\n",
        "else :\n",
        "  print('Your entered mark is not found.')"
      ],
      "execution_count": null,
      "outputs": [
        {
          "output_type": "stream",
          "text": [
            "Enter your marks: 95\n",
            "You got this in test 4\n"
          ],
          "name": "stdout"
        }
      ]
    }
  ]
}